{
 "cells": [
  {
   "cell_type": "code",
   "execution_count": null,
   "id": "f6456c4d",
   "metadata": {},
   "outputs": [],
   "source": [
    "import numpy as np\n",
    "import pandas as pd\n",
    "import matplotlib.pyplot as plt\n",
    "import seaborn as sns\n",
    "\n",
    "from sklearn.model_selection import train_test_split\n",
    "from sklearn.preprocessing import StandardScaler\n",
    "from sklearn.svm import SVC\n",
    "from sklearn.metrics import accuracy_score, confusion_matrix, classification_report, roc_curve, auc\n"
   ]
  },
  {
   "cell_type": "code",
   "execution_count": null,
   "id": "ffb10e81",
   "metadata": {},
   "outputs": [],
   "source": [
    "df = pd.read_csv(\"parkinsons.csv\")\n",
    "df.head()"
   ]
  },
  {
   "cell_type": "code",
   "execution_count": null,
   "id": "57bc6b66",
   "metadata": {},
   "outputs": [],
   "source": [
    "print(\"Dataset shape:\", df.shape)\n"
   ]
  },
  {
   "cell_type": "code",
   "execution_count": null,
   "id": "45ffbde5",
   "metadata": {},
   "outputs": [],
   "source": [
    "print(df.info())\n"
   ]
  },
  {
   "cell_type": "code",
   "execution_count": null,
   "id": "17cf7b39",
   "metadata": {},
   "outputs": [],
   "source": [
    "print(df['status'].value_counts())\n"
   ]
  },
  {
   "cell_type": "code",
   "execution_count": null,
   "id": "a3eaec3f",
   "metadata": {},
   "outputs": [],
   "source": [
    "X = df.drop(columns=['name', 'status'], axis=1)\n",
    "Y = df['status']"
   ]
  },
  {
   "cell_type": "code",
   "execution_count": null,
   "id": "f8a86e1e",
   "metadata": {},
   "outputs": [],
   "source": [
    "# Train-Test Split\n",
    "X_train, X_test, Y_train, Y_test = train_test_split(X, Y, test_size=0.2, random_state=2)\n"
   ]
  },
  {
   "cell_type": "code",
   "execution_count": null,
   "id": "0cbafdf7",
   "metadata": {},
   "outputs": [],
   "source": [
    "# Standardize the features\n",
    "scaler = StandardScaler()\n",
    "X_train = scaler.fit_transform(X_train)\n",
    "X_test = scaler.transform(X_test)\n"
   ]
  },
  {
   "cell_type": "code",
   "execution_count": null,
   "id": "321d4f60",
   "metadata": {},
   "outputs": [],
   "source": [
    "# Train SVM model\n",
    "model = SVC(kernel='linear')\n",
    "model.fit(X_train, Y_train)\n"
   ]
  },
  {
   "cell_type": "code",
   "execution_count": null,
   "id": "7cd7b61f",
   "metadata": {},
   "outputs": [],
   "source": [
    "# Training & Test Accuracy\n",
    "train_pred = model.predict(X_train)\n",
    "print(f\"Training Accuracy: {accuracy_score(Y_train, train_pred):.2f}\")\n"
   ]
  },
  {
   "cell_type": "code",
   "execution_count": null,
   "id": "21fa7d76",
   "metadata": {},
   "outputs": [],
   "source": [
    "test_pred = model.predict(X_test)\n",
    "print(f\"Test Accuracy: {accuracy_score(Y_test, test_pred):.2f}\")\n"
   ]
  },
  {
   "cell_type": "code",
   "execution_count": null,
   "id": "6315f50e",
   "metadata": {},
   "outputs": [],
   "source": [
    "# Confusion Matrix\n",
    "cm = confusion_matrix(Y_test, test_pred)\n",
    "plt.figure(figsize=(8, 6))\n",
    "sns.heatmap(cm, annot=True, fmt='d', cmap='Blues',\n",
    "            xticklabels=['Healthy', 'Parkinson\\'s'], \n",
    "            yticklabels=['Healthy', 'Parkinson\\'s'])\n",
    "plt.title('Confusion Matrix')\n",
    "plt.xlabel('Predicted Label')\n",
    "plt.ylabel('True Label')\n",
    "plt.tight_layout()\n",
    "plt.show()"
   ]
  },
  {
   "cell_type": "code",
   "execution_count": null,
   "id": "e2991cc7",
   "metadata": {},
   "outputs": [],
   "source": [
    "# ROC Curve and AUC\n",
    "y_scores = model.decision_function(X_test)  # For SVM with linear kernel\n",
    "fpr, tpr, thresholds = roc_curve(Y_test, y_scores)\n",
    "roc_auc = auc(fpr, tpr)\n",
    "\n",
    "plt.figure()\n",
    "plt.plot(fpr, tpr, color='darkorange', lw=2, label=f'ROC curve (AUC = {roc_auc:.2f})')\n",
    "plt.plot([0, 1], [0, 1], color='navy', linestyle='--')\n",
    "plt.title('Receiver Operating Characteristic (ROC) Curve')\n",
    "plt.xlabel('False Positive Rate')\n",
    "plt.ylabel('True Positive Rate')\n",
    "plt.legend(loc=\"lower right\")\n",
    "plt.grid(True)\n",
    "plt.show()"
   ]
  },
  {
   "cell_type": "code",
   "execution_count": null,
   "id": "109b3f99",
   "metadata": {},
   "outputs": [],
   "source": [
    "# Classification Report\n",
    "print(\"Classification Report:\\n\", classification_report(Y_test, test_pred, target_names=['Healthy', \"Parkinson's\"]))\n"
   ]
  },
  {
   "cell_type": "code",
   "execution_count": null,
   "id": "e9e5aa46",
   "metadata": {},
   "outputs": [],
   "source": [
    "# Predictive system function\n",
    "def predict_parkinsons(input_data):\n",
    "    input_array = np.array(input_data).reshape(1, -1)\n",
    "    input_scaled = scaler.transform(input_array)\n",
    "    prediction = model.predict(input_scaled)\n",
    "    return \"Parkinson's Disease\" if prediction[0] == 1 else \"Healthy\"\n"
   ]
  },
  {
   "cell_type": "code",
   "execution_count": null,
   "id": "42e392fd",
   "metadata": {},
   "outputs": [],
   "source": [
    "# Example Prediction\n",
    "example_data = (116.68200,131.11100,111.55500,0.01050,0.00009,0.00544,0.00781,\n",
    "                0.01633,0.05233,0.48200,0.02757,0.03858,0.03590,0.08270,0.01309,\n",
    "                20.65100,0.429895,0.825288,-4.443179,0.311173,2.342259,0.332634)\n",
    "\n",
    "result = predict_parkinsons(example_data)\n",
    "print(\"Prediction for input data:\", result)"
   ]
  }
 ],
 "metadata": {
  "kernelspec": {
   "display_name": "Python 3",
   "language": "python",
   "name": "python3"
  },
  "language_info": {
   "name": "python",
   "version": "3.11.12"
  }
 },
 "nbformat": 4,
 "nbformat_minor": 5
}
